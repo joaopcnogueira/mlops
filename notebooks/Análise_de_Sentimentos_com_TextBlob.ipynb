{
  "nbformat": 4,
  "nbformat_minor": 0,
  "metadata": {
    "colab": {
      "name": "Análise de Sentimentos com TextBlob.ipynb",
      "provenance": [],
      "collapsed_sections": []
    },
    "kernelspec": {
      "name": "python3",
      "display_name": "Python 3"
    },
    "language_info": {
      "name": "python"
    }
  },
  "cells": [
    {
      "cell_type": "code",
      "metadata": {
        "colab": {
          "base_uri": "https://localhost:8080/"
        },
        "id": "1VQ1LDVBoRC0",
        "outputId": "cfb08c10-5a2d-4b67-997f-57817a049045"
      },
      "source": [
        "!python --version"
      ],
      "execution_count": 13,
      "outputs": [
        {
          "output_type": "stream",
          "text": [
            "Python 3.7.10\n"
          ],
          "name": "stdout"
        }
      ]
    },
    {
      "cell_type": "code",
      "metadata": {
        "id": "0pGx-bR-lD2y"
      },
      "source": [
        "from textblob import TextBlob"
      ],
      "execution_count": 1,
      "outputs": []
    },
    {
      "cell_type": "code",
      "metadata": {
        "colab": {
          "base_uri": "https://localhost:8080/",
          "height": 35
        },
        "id": "5DEzcmnmo9mB",
        "outputId": "82308852-d5b3-48eb-fbfa-bcc2f97b294c"
      },
      "source": [
        "import textblob\n",
        "textblob.__version__"
      ],
      "execution_count": 14,
      "outputs": [
        {
          "output_type": "execute_result",
          "data": {
            "application/vnd.google.colaboratory.intrinsic+json": {
              "type": "string"
            },
            "text/plain": [
              "'0.15.3'"
            ]
          },
          "metadata": {
            "tags": []
          },
          "execution_count": 14
        }
      ]
    },
    {
      "cell_type": "code",
      "metadata": {
        "id": "t9a3vzLulJ3a"
      },
      "source": [
        "# frase de exemplo\n",
        "frase = \"Python é ótimo para Machine Learning\"\n",
        "\n",
        "# instanciando o objeto TextBlob com a frase de exemplo\n",
        "tb = TextBlob(frase)\n",
        "\n",
        "# traduzindo do português para o inglês, pois a TextBlob\n",
        "# trabalha melhor com o texto em inglês\n",
        "tb_en = tb.translate(to='en')"
      ],
      "execution_count": 10,
      "outputs": []
    },
    {
      "cell_type": "code",
      "metadata": {
        "colab": {
          "base_uri": "https://localhost:8080/"
        },
        "id": "BFcWBl_-lWCI",
        "outputId": "85eae675-5d1f-4dac-ba36-6f173fbc2ff1"
      },
      "source": [
        "tb_en"
      ],
      "execution_count": 11,
      "outputs": [
        {
          "output_type": "execute_result",
          "data": {
            "text/plain": [
              "TextBlob(\"Python is great for Machine Learning\")"
            ]
          },
          "metadata": {
            "tags": []
          },
          "execution_count": 11
        }
      ]
    },
    {
      "cell_type": "code",
      "metadata": {
        "colab": {
          "base_uri": "https://localhost:8080/"
        },
        "id": "AqLDBbadlY6p",
        "outputId": "2afd2eb6-0e12-4ff3-9e57-0689e4313ff5"
      },
      "source": [
        "tb_en.sentiment.polarity"
      ],
      "execution_count": 12,
      "outputs": [
        {
          "output_type": "execute_result",
          "data": {
            "text/plain": [
              "0.8"
            ]
          },
          "metadata": {
            "tags": []
          },
          "execution_count": 12
        }
      ]
    },
    {
      "cell_type": "markdown",
      "metadata": {
        "id": "2UIUaHK_lkR7"
      },
      "source": [
        "Quanto mais próximo de 1, maior é a probabilidade da mensagem carregar um sentimento positivo. Próximo de -1 representa um sentimento negativo e 0 representa sentimento neutro."
      ]
    },
    {
      "cell_type": "code",
      "metadata": {
        "colab": {
          "base_uri": "https://localhost:8080/",
          "height": 35
        },
        "id": "b78zEWcMldCp",
        "outputId": "fa31a7ee-fc7d-4645-a5cb-7af477758f6a"
      },
      "source": [
        "str(tb)"
      ],
      "execution_count": 20,
      "outputs": [
        {
          "output_type": "execute_result",
          "data": {
            "application/vnd.google.colaboratory.intrinsic+json": {
              "type": "string"
            },
            "text/plain": [
              "'Python é ótimo para Machine Learning'"
            ]
          },
          "metadata": {
            "tags": []
          },
          "execution_count": 20
        }
      ]
    },
    {
      "cell_type": "code",
      "metadata": {
        "id": "1pdQfHN4qLw5"
      },
      "source": [
        ""
      ],
      "execution_count": null,
      "outputs": []
    }
  ]
}