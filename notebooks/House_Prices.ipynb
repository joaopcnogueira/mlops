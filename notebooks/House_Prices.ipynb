{
 "cells": [
  {
   "cell_type": "code",
   "execution_count": 1,
   "metadata": {
    "executionInfo": {
     "elapsed": 2191,
     "status": "ok",
     "timestamp": 1619956291612,
     "user": {
      "displayName": "João Paulo da Costa Nogueira",
      "photoUrl": "https://lh3.googleusercontent.com/a-/AOh14GgdeCywfbq71Vsi7etCALtPU1tVWp_RgCuzRNTO=s64",
      "userId": "02773697422153285501"
     },
     "user_tz": 180
    },
    "id": "Pz2Jda_v6w27"
   },
   "outputs": [],
   "source": [
    "import numpy as np\n",
    "import pandas as pd"
   ]
  },
  {
   "cell_type": "code",
   "execution_count": 2,
   "metadata": {
    "executionInfo": {
     "elapsed": 1325,
     "status": "ok",
     "timestamp": 1619956356417,
     "user": {
      "displayName": "João Paulo da Costa Nogueira",
      "photoUrl": "https://lh3.googleusercontent.com/a-/AOh14GgdeCywfbq71Vsi7etCALtPU1tVWp_RgCuzRNTO=s64",
      "userId": "02773697422153285501"
     },
     "user_tz": 180
    },
    "id": "ryi-k-PP3Rl-"
   },
   "outputs": [],
   "source": [
    "df = pd.read_csv('../datasets/casas.csv')"
   ]
  },
  {
   "cell_type": "code",
   "execution_count": 3,
   "metadata": {
    "colab": {
     "base_uri": "https://localhost:8080/",
     "height": 204
    },
    "executionInfo": {
     "elapsed": 943,
     "status": "ok",
     "timestamp": 1619956366543,
     "user": {
      "displayName": "João Paulo da Costa Nogueira",
      "photoUrl": "https://lh3.googleusercontent.com/a-/AOh14GgdeCywfbq71Vsi7etCALtPU1tVWp_RgCuzRNTO=s64",
      "userId": "02773697422153285501"
     },
     "user_tz": 180
    },
    "id": "KK7dKWDV7G7t",
    "outputId": "ff49996a-317d-4a7b-bd70-9c16f8e7a135"
   },
   "outputs": [
    {
     "data": {
      "text/html": [
       "<div>\n",
       "<style scoped>\n",
       "    .dataframe tbody tr th:only-of-type {\n",
       "        vertical-align: middle;\n",
       "    }\n",
       "\n",
       "    .dataframe tbody tr th {\n",
       "        vertical-align: top;\n",
       "    }\n",
       "\n",
       "    .dataframe thead th {\n",
       "        text-align: right;\n",
       "    }\n",
       "</style>\n",
       "<table border=\"1\" class=\"dataframe\">\n",
       "  <thead>\n",
       "    <tr style=\"text-align: right;\">\n",
       "      <th></th>\n",
       "      <th>tamanho</th>\n",
       "      <th>ano</th>\n",
       "      <th>garagem</th>\n",
       "      <th>preco</th>\n",
       "    </tr>\n",
       "  </thead>\n",
       "  <tbody>\n",
       "    <tr>\n",
       "      <th>0</th>\n",
       "      <td>159.0</td>\n",
       "      <td>2003</td>\n",
       "      <td>2</td>\n",
       "      <td>208500</td>\n",
       "    </tr>\n",
       "    <tr>\n",
       "      <th>1</th>\n",
       "      <td>117.0</td>\n",
       "      <td>1976</td>\n",
       "      <td>2</td>\n",
       "      <td>181500</td>\n",
       "    </tr>\n",
       "    <tr>\n",
       "      <th>2</th>\n",
       "      <td>166.0</td>\n",
       "      <td>2001</td>\n",
       "      <td>2</td>\n",
       "      <td>223500</td>\n",
       "    </tr>\n",
       "    <tr>\n",
       "      <th>3</th>\n",
       "      <td>160.0</td>\n",
       "      <td>1915</td>\n",
       "      <td>3</td>\n",
       "      <td>140000</td>\n",
       "    </tr>\n",
       "    <tr>\n",
       "      <th>4</th>\n",
       "      <td>204.0</td>\n",
       "      <td>2000</td>\n",
       "      <td>3</td>\n",
       "      <td>250000</td>\n",
       "    </tr>\n",
       "  </tbody>\n",
       "</table>\n",
       "</div>"
      ],
      "text/plain": [
       "   tamanho   ano  garagem   preco\n",
       "0    159.0  2003        2  208500\n",
       "1    117.0  1976        2  181500\n",
       "2    166.0  2001        2  223500\n",
       "3    160.0  1915        3  140000\n",
       "4    204.0  2000        3  250000"
      ]
     },
     "execution_count": 3,
     "metadata": {},
     "output_type": "execute_result"
    }
   ],
   "source": [
    "df.head()"
   ]
  },
  {
   "cell_type": "code",
   "execution_count": 4,
   "metadata": {
    "executionInfo": {
     "elapsed": 1106,
     "status": "ok",
     "timestamp": 1619956371803,
     "user": {
      "displayName": "João Paulo da Costa Nogueira",
      "photoUrl": "https://lh3.googleusercontent.com/a-/AOh14GgdeCywfbq71Vsi7etCALtPU1tVWp_RgCuzRNTO=s64",
      "userId": "02773697422153285501"
     },
     "user_tz": 180
    },
    "id": "gRBEfkG53-16"
   },
   "outputs": [],
   "source": [
    "X = df.drop('preco', axis=1)\n",
    "y = df['preco']"
   ]
  },
  {
   "cell_type": "code",
   "execution_count": 5,
   "metadata": {
    "executionInfo": {
     "elapsed": 1836,
     "status": "ok",
     "timestamp": 1619956374805,
     "user": {
      "displayName": "João Paulo da Costa Nogueira",
      "photoUrl": "https://lh3.googleusercontent.com/a-/AOh14GgdeCywfbq71Vsi7etCALtPU1tVWp_RgCuzRNTO=s64",
      "userId": "02773697422153285501"
     },
     "user_tz": 180
    },
    "id": "bHLweaJN4VcV"
   },
   "outputs": [],
   "source": [
    "from sklearn.model_selection import train_test_split"
   ]
  },
  {
   "cell_type": "code",
   "execution_count": 6,
   "metadata": {
    "executionInfo": {
     "elapsed": 1064,
     "status": "ok",
     "timestamp": 1619956378683,
     "user": {
      "displayName": "João Paulo da Costa Nogueira",
      "photoUrl": "https://lh3.googleusercontent.com/a-/AOh14GgdeCywfbq71Vsi7etCALtPU1tVWp_RgCuzRNTO=s64",
      "userId": "02773697422153285501"
     },
     "user_tz": 180
    },
    "id": "NDlSGBuj4c28"
   },
   "outputs": [],
   "source": [
    "X_train, X_test, y_train, y_test = train_test_split(X, y, test_size=0.3, random_state=42)"
   ]
  },
  {
   "cell_type": "code",
   "execution_count": 7,
   "metadata": {
    "executionInfo": {
     "elapsed": 1130,
     "status": "ok",
     "timestamp": 1619956385189,
     "user": {
      "displayName": "João Paulo da Costa Nogueira",
      "photoUrl": "https://lh3.googleusercontent.com/a-/AOh14GgdeCywfbq71Vsi7etCALtPU1tVWp_RgCuzRNTO=s64",
      "userId": "02773697422153285501"
     },
     "user_tz": 180
    },
    "id": "lrmHKIqk4xAl"
   },
   "outputs": [],
   "source": [
    "from sklearn.linear_model import LinearRegression"
   ]
  },
  {
   "cell_type": "code",
   "execution_count": 8,
   "metadata": {
    "colab": {
     "base_uri": "https://localhost:8080/"
    },
    "executionInfo": {
     "elapsed": 982,
     "status": "ok",
     "timestamp": 1619956388460,
     "user": {
      "displayName": "João Paulo da Costa Nogueira",
      "photoUrl": "https://lh3.googleusercontent.com/a-/AOh14GgdeCywfbq71Vsi7etCALtPU1tVWp_RgCuzRNTO=s64",
      "userId": "02773697422153285501"
     },
     "user_tz": 180
    },
    "id": "pnaUpbWS48W8",
    "outputId": "c8644107-a57f-4e3e-b477-8dee6bdfb944"
   },
   "outputs": [
    {
     "data": {
      "text/plain": [
       "LinearRegression()"
      ]
     },
     "execution_count": 8,
     "metadata": {},
     "output_type": "execute_result"
    }
   ],
   "source": [
    "modelo = LinearRegression()\n",
    "modelo.fit(X_train, y_train)"
   ]
  },
  {
   "cell_type": "code",
   "execution_count": 9,
   "metadata": {
    "colab": {
     "base_uri": "https://localhost:8080/"
    },
    "executionInfo": {
     "elapsed": 1138,
     "status": "ok",
     "timestamp": 1619956391253,
     "user": {
      "displayName": "João Paulo da Costa Nogueira",
      "photoUrl": "https://lh3.googleusercontent.com/a-/AOh14GgdeCywfbq71Vsi7etCALtPU1tVWp_RgCuzRNTO=s64",
      "userId": "02773697422153285501"
     },
     "user_tz": 180
    },
    "id": "hIFXSS217l4r",
    "outputId": "979e78cb-bcfe-4644-fd07-4e768ffdf6a2"
   },
   "outputs": [
    {
     "data": {
      "text/plain": [
       "array([191436.53503831])"
      ]
     },
     "execution_count": 9,
     "metadata": {},
     "output_type": "execute_result"
    }
   ],
   "source": [
    "modelo.predict([[120,2001,2]])"
   ]
  },
  {
   "cell_type": "code",
   "execution_count": 14,
   "metadata": {},
   "outputs": [],
   "source": [
    "features = ['tamanho', 'ano', 'garagem']\n",
    "model_obj = pd.Series({\n",
    "    'features': features,\n",
    "    'target': 'preco',\n",
    "    'dataset': '/datasets/casas.csv',\n",
    "    'model': modelo\n",
    "})"
   ]
  },
  {
   "cell_type": "code",
   "execution_count": 17,
   "metadata": {},
   "outputs": [
    {
     "data": {
      "text/plain": [
       "features    [tamanho, ano, garagem]\n",
       "target                        preco\n",
       "dataset         /datasets/casas.csv\n",
       "model            LinearRegression()\n",
       "dtype: object"
      ]
     },
     "execution_count": 17,
     "metadata": {},
     "output_type": "execute_result"
    }
   ],
   "source": [
    "model_obj"
   ]
  },
  {
   "cell_type": "code",
   "execution_count": 18,
   "metadata": {
    "colab": {
     "base_uri": "https://localhost:8080/",
     "height": 181
    },
    "executionInfo": {
     "elapsed": 960,
     "status": "error",
     "timestamp": 1619956405083,
     "user": {
      "displayName": "João Paulo da Costa Nogueira",
      "photoUrl": "https://lh3.googleusercontent.com/a-/AOh14GgdeCywfbq71Vsi7etCALtPU1tVWp_RgCuzRNTO=s64",
      "userId": "02773697422153285501"
     },
     "user_tz": 180
    },
    "id": "zMnxiJ9-7xiB",
    "outputId": "4cfe2358-49ae-44db-f7d8-740d5c5628ec"
   },
   "outputs": [
    {
     "data": {
      "text/plain": [
       "['../models/model_prices.pkl']"
      ]
     },
     "execution_count": 18,
     "metadata": {},
     "output_type": "execute_result"
    }
   ],
   "source": [
    "import joblib\n",
    "joblib.dump(model_obj, '../models/model_prices.pkl')"
   ]
  },
  {
   "cell_type": "code",
   "execution_count": null,
   "metadata": {},
   "outputs": [],
   "source": []
  }
 ],
 "metadata": {
  "colab": {
   "name": "House_Prices.ipynb",
   "provenance": []
  },
  "kernelspec": {
   "display_name": "Python 3",
   "language": "python",
   "name": "python3"
  },
  "language_info": {
   "codemirror_mode": {
    "name": "ipython",
    "version": 3
   },
   "file_extension": ".py",
   "mimetype": "text/x-python",
   "name": "python",
   "nbconvert_exporter": "python",
   "pygments_lexer": "ipython3",
   "version": "3.7.10"
  }
 },
 "nbformat": 4,
 "nbformat_minor": 1
}
